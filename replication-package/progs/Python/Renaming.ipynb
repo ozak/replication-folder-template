{
 "cells": [
  {
   "cell_type": "markdown",
   "id": "995d4fe5-5f44-4269-b0ac-bfb8dd9369de",
   "metadata": {},
   "source": [
    "# Renaming figures and tables\n",
    "## This notebook copies and renames figures and tables created during the analysis to be included in paper"
   ]
  },
  {
   "cell_type": "code",
   "execution_count": 1,
   "id": "2bb1416d-9ac1-4e8d-9249-5ae44e3f69dc",
   "metadata": {
    "execution": {
     "iopub.execute_input": "2024-09-12T20:25:22.574753Z",
     "iopub.status.busy": "2024-09-12T20:25:22.574455Z",
     "iopub.status.idle": "2024-09-12T20:25:22.577842Z",
     "shell.execute_reply": "2024-09-12T20:25:22.577028Z"
    }
   },
   "outputs": [],
   "source": [
    "import os\n",
    "import pandas as pd\n",
    "import shutil"
   ]
  },
  {
   "cell_type": "markdown",
   "id": "51ffb37f",
   "metadata": {},
   "source": [
    "# Function to copy and rename"
   ]
  },
  {
   "cell_type": "code",
   "execution_count": 2,
   "id": "385e650d-6d20-41b6-ae40-809f4a6dd6ef",
   "metadata": {
    "execution": {
     "iopub.execute_input": "2024-09-12T20:25:22.582461Z",
     "iopub.status.busy": "2024-09-12T20:25:22.582197Z",
     "iopub.status.idle": "2024-09-12T20:25:22.586634Z",
     "shell.execute_reply": "2024-09-12T20:25:22.586048Z"
    }
   },
   "outputs": [],
   "source": [
    "# As sugegsted in ChatGPT and also found on Stackoverflow etc\n",
    "def copy_and_rename_file(source_file, destination_directory, new_filename):\n",
    "    # Combine the destination directory with the new filename\n",
    "    destination_path = os.path.join(destination_directory, new_filename)\n",
    "    \n",
    "    # Copy the file to the destination with the new name\n",
    "    shutil.copyfile(source_file, destination_path)"
   ]
  },
  {
   "cell_type": "markdown",
   "id": "687ac074-3550-438b-afe1-6364ad567eb4",
   "metadata": {},
   "source": [
    "# Figure 1\n",
    "# Copy and rename files for Figure 1"
   ]
  },
  {
   "cell_type": "markdown",
   "id": "10948aac",
   "metadata": {},
   "source": [
    "## Define paths from which figures are to be copied"
   ]
  },
  {
   "cell_type": "code",
   "execution_count": null,
   "id": "e9bf728f-354a-4483-a962-d2576b49612c",
   "metadata": {
    "execution": {
     "iopub.execute_input": "2024-09-12T20:25:22.589961Z",
     "iopub.status.busy": "2024-09-12T20:25:22.589741Z",
     "iopub.status.idle": "2024-09-12T20:25:22.593239Z",
     "shell.execute_reply": "2024-09-12T20:25:22.592492Z"
    }
   },
   "outputs": [],
   "source": [
    "# Location where Figure 1 is, adjust as needed\n",
    "baseline_dir = \"../../graphs/\"\n",
    "destination_directory = \"../../graphs/paper/\""
   ]
  },
  {
   "cell_type": "markdown",
   "id": "feb0e0b1",
   "metadata": {},
   "source": [
    "## Find all files for the figure"
   ]
  },
  {
   "cell_type": "code",
   "execution_count": null,
   "id": "d7742474-912c-4e08-89ec-f1c55cc8beab",
   "metadata": {
    "execution": {
     "iopub.execute_input": "2024-09-12T20:25:22.596468Z",
     "iopub.status.busy": "2024-09-12T20:25:22.596179Z",
     "iopub.status.idle": "2024-09-12T20:25:22.602631Z",
     "shell.execute_reply": "2024-09-12T20:25:22.602334Z"
    }
   },
   "outputs": [],
   "source": [
    "files = [f for f in os.listdir(baseline_dir) if f.find('figure-1-name')!=-1 and f.startswith('some-text-in-name')==False]\n",
    "files.sort()\n",
    "files"
   ]
  },
  {
   "cell_type": "markdown",
   "id": "2a8717aa",
   "metadata": {},
   "source": [
    "## Set subfiles if in the final version you have Figure-1-A, etc. otherwise just leave `''`"
   ]
  },
  {
   "cell_type": "code",
   "execution_count": 5,
   "id": "9ca4f6c6-2492-4e10-bdd6-812db923a076",
   "metadata": {
    "execution": {
     "iopub.execute_input": "2024-09-12T20:25:22.604024Z",
     "iopub.status.busy": "2024-09-12T20:25:22.603911Z",
     "iopub.status.idle": "2024-09-12T20:25:22.613981Z",
     "shell.execute_reply": "2024-09-12T20:25:22.613693Z"
    }
   },
   "outputs": [],
   "source": [
    "# Example usage:\n",
    "subfiles = ['-a', '-b', '']\n",
    "extension = os.path.splitext(files[0])[1]\n",
    "for i in range(3):\n",
    "    f = files[i]\n",
    "    source_file = baseline_dir + f\n",
    "    new_filename = \"Figure-1\" + subfiles[i] + extension\n",
    "    copy_and_rename_file(source_file, destination_directory, new_filename)"
   ]
  },
  {
   "cell_type": "markdown",
   "id": "e9bee624-3fd4-4517-aaec-a38e05460335",
   "metadata": {},
   "source": [
    "# Figure 2\n",
    "# Copy and rename files for Figure 2"
   ]
  },
  {
   "cell_type": "code",
   "execution_count": null,
   "id": "8c90a02a-af75-4d8d-a403-a6dfa4bb587b",
   "metadata": {
    "execution": {
     "iopub.execute_input": "2024-09-12T20:25:22.615284Z",
     "iopub.status.busy": "2024-09-12T20:25:22.615178Z",
     "iopub.status.idle": "2024-09-12T20:25:22.617017Z",
     "shell.execute_reply": "2024-09-12T20:25:22.616807Z"
    }
   },
   "outputs": [],
   "source": [
    "# Location where Figure 1 is, adjust as needed\n",
    "baseline_dir = \"../../graphs/\"\n",
    "destination_directory = \"../../graphs/paper/\""
   ]
  },
  {
   "cell_type": "markdown",
   "id": "ec3c8742",
   "metadata": {},
   "source": [
    "## Find all files for the figure"
   ]
  },
  {
   "cell_type": "code",
   "execution_count": null,
   "id": "7a5a000a",
   "metadata": {},
   "outputs": [],
   "source": [
    "files = [f for f in os.listdir(baseline_dir) if f.find('figure-2-name')!=-1 and f.startswith('some-text-in-name')==False]\n",
    "files.sort()\n",
    "files"
   ]
  },
  {
   "cell_type": "markdown",
   "id": "6bbc5326-ec83-4b76-8ed3-54c43d163c9f",
   "metadata": {},
   "source": [
    "# Figure 3\n",
    "# Copy and rename files for Figure 3\n",
    "# Assume no name change required"
   ]
  },
  {
   "cell_type": "code",
   "execution_count": null,
   "id": "696ae194-ba42-4fc0-aaf0-77bfbc892360",
   "metadata": {
    "execution": {
     "iopub.execute_input": "2024-09-12T20:25:22.721036Z",
     "iopub.status.busy": "2024-09-12T20:25:22.720937Z",
     "iopub.status.idle": "2024-09-12T20:25:22.722524Z",
     "shell.execute_reply": "2024-09-12T20:25:22.722327Z"
    }
   },
   "outputs": [],
   "source": [
    "# Location where Figure 1 is, adjust as needed\n",
    "baseline_dir = \"../../graphs/\"\n",
    "destination_directory = \"../../graphs/paper/\""
   ]
  },
  {
   "cell_type": "code",
   "execution_count": null,
   "id": "4cb2578c-4065-48bf-8c5f-f19d7b702869",
   "metadata": {
    "execution": {
     "iopub.execute_input": "2024-09-12T20:25:22.723717Z",
     "iopub.status.busy": "2024-09-12T20:25:22.723629Z",
     "iopub.status.idle": "2024-09-12T20:25:22.725902Z",
     "shell.execute_reply": "2024-09-12T20:25:22.725634Z"
    }
   },
   "outputs": [],
   "source": [
    "files = [f for f in os.listdir(baseline_dir) if f.find('Figure-9')!=-1 ]\n",
    "files.sort()\n",
    "files"
   ]
  },
  {
   "cell_type": "code",
   "execution_count": 29,
   "id": "62e6a2f0-97e4-4275-a9b5-f91185b2dc6b",
   "metadata": {
    "execution": {
     "iopub.execute_input": "2024-09-12T20:25:22.727107Z",
     "iopub.status.busy": "2024-09-12T20:25:22.727024Z",
     "iopub.status.idle": "2024-09-12T20:25:22.783111Z",
     "shell.execute_reply": "2024-09-12T20:25:22.782829Z"
    }
   },
   "outputs": [],
   "source": [
    "for f in files:\n",
    "    source_file = baseline_dir + f\n",
    "    new_filename = f\n",
    "    copy_and_rename_file(source_file, destination_directory, new_filename)"
   ]
  },
  {
   "cell_type": "markdown",
   "id": "b8979b37",
   "metadata": {},
   "source": [
    "# Various options to (re)create Tables"
   ]
  },
  {
   "cell_type": "markdown",
   "id": "6e2b46fa-4e3b-499f-b3e8-eae3bd8a1bad",
   "metadata": {},
   "source": [
    "# E..g., you have a table with panels, which are usually difficult to create in Stata\n",
    "# Create Table 1 by joining Table-1-Panel-A and Table-1-Panel-B, which are orignally created by `estout` in `stata`"
   ]
  },
  {
   "cell_type": "code",
   "execution_count": null,
   "id": "9bee6013-9102-42ec-86b2-bd8ad57e5307",
   "metadata": {
    "execution": {
     "iopub.execute_input": "2024-09-12T20:25:22.990960Z",
     "iopub.status.busy": "2024-09-12T20:25:22.990860Z",
     "iopub.status.idle": "2024-09-12T20:25:23.002321Z",
     "shell.execute_reply": "2024-09-12T20:25:23.002073Z"
    }
   },
   "outputs": [],
   "source": [
    "# Location where Table 1 is, adjust as needed\n",
    "baseline_dir = \"../../tables/\"\n",
    "destination_directory = \"../../tables/paper/\"\n",
    "\n",
    "if os.path.exists(destination_directory)==False:\n",
    "    os.mkdir(destination_directory)\n",
    "\n",
    "# Replace gere with the clean preamble you have created, you know the one that is already in the paper, \n",
    "# but that you need to be able to recreate from scratch for replicaiton purposes\n",
    "latex_preamble = r'''\n",
    "\\begin{table}[htb!]\\centering\n",
    "% MANY OPTIONS AND COLUMNS ETC\n",
    "% Perhaps with panel name etc using \n",
    "% \\mypanel{PANEL A NAME\\label{tab-XXX-panel-A}}&\\multicolumn{X}{c}{OUTPUT}\\\\\\cmidrule(lr){2-10}\n",
    "\\midrule\n",
    "'''\n",
    "\n",
    "# Similarly, put here the intermediate part of your table, which perhaps you also had already in your paper?\n",
    "latex_middle = r'''\n",
    "\\bottomrule\n",
    "&\\multicolumn{1}{c}{}    \\\\\n",
    "% MANY OPTIONS AND COLUMNS ETC\n",
    "% Perhaps with panel name etc using \n",
    "% \\mypanel{PANEL B NAME\\label{tab-XXX-panel-B}}&\\multicolumn{X}{c}{OUTPUT}\\\\\\cmidrule(lr){2-10}\n",
    "\\midrule\n",
    "'''\n",
    "\n",
    "# And here the end of the table\n",
    "latex_post = r'''\n",
    "\\bottomrule\n",
    "\\multicolumn{10}{p{1.07\\textwidth}}{\\scriptsize Notes: SOME NOTES. Heteroskedasticity robust standard error estimates clustered at the XXX-level are reported in parentheses; $^{***}$ denotes statistical significance at the 1\\% level, $^{**}$ at the 5\\% level, and $^{*}$ at the 10\\% level, all for two-sided hypothesis tests.}\n",
    "\\end{tabular}\n",
    "}\n",
    "\\end{table}\n",
    "'''\n",
    "\n",
    "# Open the LaTeX table file\n",
    "with open(baseline_dir + 'Table-1-Panel-A.tex', 'r') as file:\n",
    "    # Read all lines from the file\n",
    "    lines = file.readlines()\n",
    "\n",
    "# Initialize a flag to indicate whether to start capturing lines\n",
    "capture = False\n",
    "\n",
    "# Initialize an empty list to store table data\n",
    "table_lines = []\n",
    "\n",
    "# Iterate through the lines to parse the table content\n",
    "for line in lines:\n",
    "    # Strip any leading/trailing whitespaces and newline characters\n",
    "    line = line.strip()\n",
    "    \n",
    "    # Start capturing lines when encountering \\midrule\n",
    "    if line.startswith('\\\\midrule'):\n",
    "        capture = True\n",
    "        continue\n",
    "    \n",
    "    # Stop capturing lines when encountering \\bottomrule\n",
    "    if line.startswith('\\\\bottomrule'):\n",
    "        break\n",
    "    \n",
    "    # Skip capturing if not within the range of interest\n",
    "    if not capture:\n",
    "        continue\n",
    "    \n",
    "    # Append the line to the table_lines list\n",
    "    table_lines.append(line)\n",
    "\n",
    "panelA = latex_preamble + '\\n'.join(table_lines) + latex_middle\n",
    "\n",
    "# Open the LaTeX table file\n",
    "with open(baseline_dir + 'Table-1-Panel-B.tex', 'r') as file:\n",
    "    # Read all lines from the file\n",
    "    lines = file.readlines()\n",
    "\n",
    "# Initialize a flag to indicate whether to start capturing lines\n",
    "capture = False\n",
    "\n",
    "# Initialize an empty list to store table data\n",
    "table_lines = []\n",
    "\n",
    "# Iterate through the lines to parse the table content\n",
    "for line in lines:\n",
    "    # Strip any leading/trailing whitespaces and newline characters\n",
    "    line = line.strip()\n",
    "    \n",
    "    # Start capturing lines when encountering \\midrule\n",
    "    if line.startswith('\\\\midrule'):\n",
    "        capture = True\n",
    "        continue\n",
    "    \n",
    "    # Stop capturing lines when encountering \\bottomrule\n",
    "    if line.startswith('\\\\bottomrule'):\n",
    "        break\n",
    "    \n",
    "    # Skip capturing if not within the range of interest\n",
    "    if not capture:\n",
    "        continue\n",
    "    \n",
    "    # Append the line to the table_lines list\n",
    "    table_lines.append(line)\n",
    "\n",
    "panelB = '\\n'.join(table_lines) + latex_post\n",
    "\n",
    "final_latex = panelA + panelB\n",
    "\n",
    "# Writing to a .tex file\n",
    "with open(destination_directory + 'Table-1.tex', 'w') as f:\n",
    "    f.write(final_latex)"
   ]
  },
  {
   "cell_type": "markdown",
   "id": "04d4b4d7-974d-45a1-8b73-885143269351",
   "metadata": {},
   "source": [
    "# Copy and rename file for Table 1, when original name is something else"
   ]
  },
  {
   "cell_type": "code",
   "execution_count": null,
   "id": "a928f1e5-591b-429b-815c-cb62a5c27451",
   "metadata": {
    "execution": {
     "iopub.execute_input": "2024-09-12T20:25:23.014372Z",
     "iopub.status.busy": "2024-09-12T20:25:23.014295Z",
     "iopub.status.idle": "2024-09-12T20:25:23.018834Z",
     "shell.execute_reply": "2024-09-12T20:25:23.018593Z"
    }
   },
   "outputs": [],
   "source": [
    "baseline_dir = \"../../tables/\"\n",
    "destination_directory = \"../../tables/paper/\"\n",
    "source_file = baseline_dir + 'SOME-WEIRD-NAME-TABLE-1-ORIGINALLY-HAS.tex'\n",
    "new_filename = 'Table-1.tex'\n",
    "copy_and_rename_file(source_file, destination_directory, new_filename)"
   ]
  },
  {
   "cell_type": "markdown",
   "id": "8e456294-9885-461f-9eba-38132700dfd2",
   "metadata": {},
   "source": [
    "# Copy and reacreate Table 1 \n",
    "# When you have already a nice looking table, but need to replicate it\n",
    "# This tries to extract the part where your data actually is. You need to adjust the START-STRING and END-STRING\n",
    "# and adds a few lines that you may need also, like lines with FE.\n"
   ]
  },
  {
   "cell_type": "code",
   "execution_count": null,
   "id": "e203eb03-5f01-456a-a02d-cd334f540d7f",
   "metadata": {
    "execution": {
     "iopub.execute_input": "2024-09-12T20:25:23.059406Z",
     "iopub.status.busy": "2024-09-12T20:25:23.059321Z",
     "iopub.status.idle": "2024-09-12T20:25:23.066304Z",
     "shell.execute_reply": "2024-09-12T20:25:23.066056Z"
    }
   },
   "outputs": [],
   "source": [
    "# Location where Table 1 is, adjust as needed\n",
    "baseline_dir = \"../../tables/\"\n",
    "destination_directory = \"../../tables/paper/\"\n",
    "\n",
    "if os.path.exists(destination_directory)==False:\n",
    "    os.mkdir(destination_directory)\n",
    "\n",
    "latex_preamble = r'''\n",
    "\\begin{table}[htb!]\\centering\n",
    "% COPY HERE THE CLEAN PREAMBLE OF THE NICE LOOKING TABLE YOU HAVE RIGHT NOW IN THE PAPER\n",
    "\\midrule\n",
    "'''\n",
    "\n",
    "latex_post = r'''\n",
    "\\bottomrule\n",
    "\\multicolumn{10}{p{1.1\\textwidth}}{\\scriptsize Notes: YOUR NOTES. Heteroskedasticity robust standard error estimates clustered at the XXX-level are reported in parentheses; *** denotes statistical significance at the 1\\% level, ** at the 5\\% level, and * at the 10\\% level, all for two-sided hypothesis tests.}\n",
    "\\end{tabular}\n",
    "}\n",
    "\\end{table}\n",
    "'''\n",
    "\n",
    "# Open the LaTeX table file\n",
    "with open(baseline_dir + 'Table-1.tex', 'r') as file:\n",
    "    # Read all lines from the file\n",
    "    lines = file.readlines()\n",
    "\n",
    "# Initialize a flag to indicate whether to start capturing lines\n",
    "capture = False\n",
    "\n",
    "# Initialize an empty list to store table data\n",
    "table_lines = []\n",
    "\n",
    "# Iterate through the lines to parse the table content\n",
    "for line in lines:\n",
    "    # Strip any leading/trailing whitespaces and newline characters\n",
    "    line = line.strip()\n",
    "    \n",
    "    # Start capturing lines when encountering \\midrule\n",
    "    if line.startswith('START_STRING'):\n",
    "        capture = True\n",
    "        continue\n",
    "    \n",
    "    # get line with FE (copy and paste as many as you need)\n",
    "    if line.startswith('FE_STRING'):\n",
    "        reg_line = line\n",
    "        continue\n",
    "\n",
    "    # Stop capturing lines when encountering \\bottomrule\n",
    "    if line.startswith('\\\\bottomrule'):\n",
    "        break\n",
    "    \n",
    "    # Skip capturing if not within the range of interest\n",
    "    if not capture:\n",
    "        continue\n",
    "    \n",
    "    # Append the line to the table_lines list\n",
    "    table_lines.append(line)\n",
    "\n",
    "final_latex = latex_preamble + '\\n'.join(table_lines) + latex_post\n",
    "\n",
    "# Writing to a .tex file\n",
    "with open(destination_directory + 'Table-1.tex', 'w') as f:\n",
    "    f.write(final_latex)"
   ]
  }
 ],
 "metadata": {
  "kernelspec": {
   "display_name": "Python [conda env:country-stability] *",
   "language": "python",
   "name": "conda-env-country-stability-py"
  },
  "language_info": {
   "codemirror_mode": {
    "name": "ipython",
    "version": 3
   },
   "file_extension": ".py",
   "mimetype": "text/x-python",
   "name": "python",
   "nbconvert_exporter": "python",
   "pygments_lexer": "ipython3",
   "version": "3.11.6"
  },
  "widgets": {
   "application/vnd.jupyter.widget-state+json": {
    "state": {},
    "version_major": 2,
    "version_minor": 0
   }
  }
 },
 "nbformat": 4,
 "nbformat_minor": 5
}
