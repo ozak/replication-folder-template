{
 "cells": [
  {
   "cell_type": "markdown",
   "id": "1c8fcbc4-2790-4be4-a9ca-78a4f08b3255",
   "metadata": {},
   "source": [
    "# Copy final figures and tables to correct folder in paper and appendix folders"
   ]
  },
  {
   "cell_type": "code",
   "execution_count": 1,
   "id": "2bb1416d-9ac1-4e8d-9249-5ae44e3f69dc",
   "metadata": {
    "execution": {
     "iopub.execute_input": "2024-09-13T14:06:40.792969Z",
     "iopub.status.busy": "2024-09-13T14:06:40.792618Z",
     "iopub.status.idle": "2024-09-13T14:06:40.796979Z",
     "shell.execute_reply": "2024-09-13T14:06:40.796089Z"
    },
    "tags": []
   },
   "outputs": [],
   "source": [
    "import os\n",
    "import pandas as pd\n",
    "import glob\n",
    "import re\n",
    "import shutil"
   ]
  },
  {
   "cell_type": "markdown",
   "id": "73e1ea15",
   "metadata": {},
   "source": [
    "# Functions to find and copy figures and tables"
   ]
  },
  {
   "cell_type": "code",
   "execution_count": 2,
   "id": "385e650d-6d20-41b6-ae40-809f4a6dd6ef",
   "metadata": {
    "execution": {
     "iopub.execute_input": "2024-09-13T14:06:40.800417Z",
     "iopub.status.busy": "2024-09-13T14:06:40.800086Z",
     "iopub.status.idle": "2024-09-13T14:06:40.808781Z",
     "shell.execute_reply": "2024-09-13T14:06:40.808210Z"
    },
    "tags": []
   },
   "outputs": [],
   "source": [
    "# As sugegsted in ChatGPT and also found on Stackoverflow etc\n",
    "def copy_and_rename_file(source_file, destination_directory, new_filename):\n",
    "    # Combine the destination directory with the new filename\n",
    "    destination_path = os.path.join(destination_directory, new_filename)\n",
    "    \n",
    "    # Copy the file to the destination with the new name\n",
    "    shutil.copyfile(source_file, destination_path)\n",
    "    \n",
    "def find_numbered_files(source_directory, file_name = 'Figure'):\n",
    "    # File pattern\n",
    "    file_pattern = file_name + '-*'\n",
    "    # Use glob to find all files matching 'Figure-*'\n",
    "    all_files = glob.glob(os.path.join(source_directory, file_pattern))\n",
    "    \n",
    "    # Use regex to filter only files that match 'Figure-{number}' (e.g., Figure-1, Figure-23)\n",
    "    numbered_files = [os.path.basename(file) for file in all_files if re.match(r'^Figure-\\d+(-[a-zA-Z])?$'.replace('Figure', file_name), os.path.basename(file).split('.')[0])]\n",
    "    numbered_files.sort()\n",
    "    \n",
    "    return numbered_files\n",
    "\n",
    "def find_letter_files(source_directory, file_name = 'Figure'):\n",
    "    # File pattern\n",
    "    file_pattern = file_name + '-*'\n",
    "    # Use glob to find all files matching 'Figure-*'\n",
    "    all_files = glob.glob(os.path.join(source_directory, file_pattern))\n",
    "    \n",
    "    # Use regex to filter only files that match 'Figure-{number}' (e.g., Figure-1, Figure-23)\n",
    "    numbered_files = [os.path.basename(file) for file in all_files if re.match(r'^Figure-\\d+(-[a-zA-Z])?$'.replace('Figure', file_name), os.path.basename(file).split('.')[0])]\n",
    "    \n",
    "    all_files = [os.path.basename(file) for file in all_files]\n",
    "    letter_files = list(set(all_files).difference(numbered_files))\n",
    "    letter_files.sort()\n",
    "    \n",
    "    return letter_files"
   ]
  },
  {
   "cell_type": "markdown",
   "id": "f90ace5d",
   "metadata": {},
   "source": [
    "# Define output folders (i.e., folders where the tex is going to try and find the figures and tables)"
   ]
  },
  {
   "cell_type": "code",
   "execution_count": 3,
   "id": "bdced18d-107a-4483-a3ad-9817e85f385b",
   "metadata": {
    "execution": {
     "iopub.execute_input": "2024-09-13T14:06:40.811686Z",
     "iopub.status.busy": "2024-09-13T14:06:40.811472Z",
     "iopub.status.idle": "2024-09-13T14:06:40.813350Z",
     "shell.execute_reply": "2024-09-13T14:06:40.813121Z"
    }
   },
   "outputs": [],
   "source": [
    "pathgraphs_paper = '../../../1-paper/graphs/paper/'\n",
    "pathtables_paper = '../../../1-paper/tables/paper/'\n",
    "pathgraphs_appendix = '../../../2-appendix/graphs/paper/'\n",
    "pathtables_appendix = '../../../2-appendix/tables/paper/'"
   ]
  },
  {
   "cell_type": "markdown",
   "id": "d668053c",
   "metadata": {},
   "source": [
    "# Paths where final original figures and tables are"
   ]
  },
  {
   "cell_type": "code",
   "execution_count": 4,
   "id": "762b3a11-140f-496b-bb5b-a63c9e434d81",
   "metadata": {
    "execution": {
     "iopub.execute_input": "2024-09-13T14:06:40.814394Z",
     "iopub.status.busy": "2024-09-13T14:06:40.814317Z",
     "iopub.status.idle": "2024-09-13T14:06:40.815800Z",
     "shell.execute_reply": "2024-09-13T14:06:40.815614Z"
    }
   },
   "outputs": [],
   "source": [
    "pathgraphs = '../../graphs/paper/'\n",
    "pathtables = '../../tables/paper/'"
   ]
  },
  {
   "cell_type": "markdown",
   "id": "7c93a467",
   "metadata": {},
   "source": [
    "# Copy figures for main text"
   ]
  },
  {
   "cell_type": "code",
   "execution_count": null,
   "id": "2cec3ae4-c4c6-43a7-97ae-5198a87a98b9",
   "metadata": {
    "execution": {
     "iopub.execute_input": "2024-09-13T14:06:40.817001Z",
     "iopub.status.busy": "2024-09-13T14:06:40.816913Z",
     "iopub.status.idle": "2024-09-13T14:06:40.820452Z",
     "shell.execute_reply": "2024-09-13T14:06:40.820229Z"
    }
   },
   "outputs": [],
   "source": [
    "graphs_paper = find_numbered_files(pathgraphs, file_name = 'Figure')\n",
    "graphs_paper"
   ]
  },
  {
   "cell_type": "code",
   "execution_count": 6,
   "id": "68758229-831e-4203-81ad-505fa978f619",
   "metadata": {
    "execution": {
     "iopub.execute_input": "2024-09-13T14:06:40.821547Z",
     "iopub.status.busy": "2024-09-13T14:06:40.821481Z",
     "iopub.status.idle": "2024-09-13T14:06:40.885326Z",
     "shell.execute_reply": "2024-09-13T14:06:40.885102Z"
    }
   },
   "outputs": [],
   "source": [
    "for f in graphs_paper:\n",
    "    source_file = pathgraphs + f\n",
    "    new_filename = f\n",
    "    destination_directory = pathgraphs_paper\n",
    "    copy_and_rename_file(source_file, destination_directory, new_filename)"
   ]
  },
  {
   "cell_type": "markdown",
   "id": "2274842a",
   "metadata": {},
   "source": [
    "# Copy tables for main text"
   ]
  },
  {
   "cell_type": "code",
   "execution_count": null,
   "id": "d24c5e8b-7a56-43d7-bb67-27a22794a8fc",
   "metadata": {
    "execution": {
     "iopub.execute_input": "2024-09-13T14:06:40.886643Z",
     "iopub.status.busy": "2024-09-13T14:06:40.886554Z",
     "iopub.status.idle": "2024-09-13T14:06:40.889477Z",
     "shell.execute_reply": "2024-09-13T14:06:40.889277Z"
    }
   },
   "outputs": [],
   "source": [
    "tables_paper = find_numbered_files(pathtables, file_name = 'Table')\n",
    "tables_paper"
   ]
  },
  {
   "cell_type": "code",
   "execution_count": 8,
   "id": "a482a4e6-a886-4b25-acfb-2c91a3ede846",
   "metadata": {
    "execution": {
     "iopub.execute_input": "2024-09-13T14:06:40.890620Z",
     "iopub.status.busy": "2024-09-13T14:06:40.890540Z",
     "iopub.status.idle": "2024-09-13T14:06:40.895335Z",
     "shell.execute_reply": "2024-09-13T14:06:40.895144Z"
    }
   },
   "outputs": [],
   "source": [
    "for f in tables_paper:\n",
    "    source_file = pathtables + f\n",
    "    new_filename = f\n",
    "    destination_directory = pathtables_paper\n",
    "    copy_and_rename_file(source_file, destination_directory, new_filename)"
   ]
  },
  {
   "cell_type": "markdown",
   "id": "c6c962ac",
   "metadata": {},
   "source": [
    "# Copy figures for appendix"
   ]
  },
  {
   "cell_type": "code",
   "execution_count": null,
   "id": "36d2d83c-4628-43f5-91c7-3002c06a9d88",
   "metadata": {
    "execution": {
     "iopub.execute_input": "2024-09-13T14:06:40.896417Z",
     "iopub.status.busy": "2024-09-13T14:06:40.896343Z",
     "iopub.status.idle": "2024-09-13T14:06:40.898564Z",
     "shell.execute_reply": "2024-09-13T14:06:40.898374Z"
    }
   },
   "outputs": [],
   "source": [
    "graphs_appendix = find_letter_files(pathgraphs, file_name = 'Figure')\n",
    "graphs_appendix"
   ]
  },
  {
   "cell_type": "code",
   "execution_count": 10,
   "id": "92d4704d-e8d7-4427-92a7-aedf1dd2ebdf",
   "metadata": {
    "execution": {
     "iopub.execute_input": "2024-09-13T14:06:40.899655Z",
     "iopub.status.busy": "2024-09-13T14:06:40.899580Z",
     "iopub.status.idle": "2024-09-13T14:06:40.956342Z",
     "shell.execute_reply": "2024-09-13T14:06:40.956112Z"
    }
   },
   "outputs": [],
   "source": [
    "for f in graphs_appendix:\n",
    "    source_file = pathgraphs + f\n",
    "    new_filename = f\n",
    "    destination_directory = pathgraphs_appendix\n",
    "    copy_and_rename_file(source_file, destination_directory, new_filename)"
   ]
  },
  {
   "cell_type": "markdown",
   "id": "24ee1528",
   "metadata": {},
   "source": [
    "# Copy tables for appendix"
   ]
  },
  {
   "cell_type": "code",
   "execution_count": null,
   "id": "e50fd59b-9cd0-4d0e-b8bc-250c49f8baec",
   "metadata": {
    "execution": {
     "iopub.execute_input": "2024-09-13T14:06:40.957684Z",
     "iopub.status.busy": "2024-09-13T14:06:40.957603Z",
     "iopub.status.idle": "2024-09-13T14:06:40.959911Z",
     "shell.execute_reply": "2024-09-13T14:06:40.959698Z"
    }
   },
   "outputs": [],
   "source": [
    "tables_appendix = find_letter_files(pathtables, file_name = 'Table')\n",
    "tables_appendix"
   ]
  },
  {
   "cell_type": "code",
   "execution_count": 12,
   "id": "ee1ae8a9-3273-4c56-b431-5d0d8cb01954",
   "metadata": {
    "execution": {
     "iopub.execute_input": "2024-09-13T14:06:40.961036Z",
     "iopub.status.busy": "2024-09-13T14:06:40.960967Z",
     "iopub.status.idle": "2024-09-13T14:06:41.005899Z",
     "shell.execute_reply": "2024-09-13T14:06:41.005668Z"
    }
   },
   "outputs": [],
   "source": [
    "for f in tables_appendix:\n",
    "    source_file = pathtables + f\n",
    "    new_filename = f\n",
    "    destination_directory = pathtables_appendix\n",
    "    copy_and_rename_file(source_file, destination_directory, new_filename)"
   ]
  }
 ],
 "metadata": {
  "kernelspec": {
   "display_name": "Python [conda env:country-stability] *",
   "language": "python",
   "name": "conda-env-country-stability-py"
  },
  "language_info": {
   "codemirror_mode": {
    "name": "ipython",
    "version": 3
   },
   "file_extension": ".py",
   "mimetype": "text/x-python",
   "name": "python",
   "nbconvert_exporter": "python",
   "pygments_lexer": "ipython3",
   "version": "3.11.6"
  },
  "widgets": {
   "application/vnd.jupyter.widget-state+json": {
    "state": {},
    "version_major": 2,
    "version_minor": 0
   }
  }
 },
 "nbformat": 4,
 "nbformat_minor": 5
}
