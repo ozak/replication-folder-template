{
 "cells": [
  {
   "cell_type": "markdown",
   "metadata": {},
   "source": [
    "# Stata Notebook Template\n",
    "## Not Stata kernel, but Stata from python as explained [here](https://www.stata.com/features/overview/jupyter-notebooks/)"
   ]
  },
  {
   "cell_type": "code",
   "execution_count": null,
   "metadata": {},
   "outputs": [],
   "source": [
    "import stata_setup\n",
    "# Setup for MacOS\n",
    "# You may need to adjust the path to your Stata installation\n",
    "stata_setup.config('/Applications/Stata', 'mp')"
   ]
  },
  {
   "cell_type": "markdown",
   "metadata": {},
   "source": [
    "# Setup"
   ]
  },
  {
   "cell_type": "code",
   "execution_count": null,
   "metadata": {},
   "outputs": [],
   "source": [
    "%%stata\n",
    "clear all\n",
    "set maxvar 32000\n",
    "set matsize 11000"
   ]
  }
 ],
 "metadata": {
  "language_info": {
   "name": "python"
  }
 },
 "nbformat": 4,
 "nbformat_minor": 2
}
