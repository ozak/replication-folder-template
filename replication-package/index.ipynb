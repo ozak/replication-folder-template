{
 "cells": [
  {
   "cell_type": "markdown",
   "id": "6b705af8-faa7-4590-a3c9-142dabcd1b03",
   "metadata": {
    "jp-MarkdownHeadingCollapsed": true
   },
   "source": [
    "# Replication steps and code for \n",
    "</br>\n",
    "<center>\n",
    "<div style=\"border-left: 5px solid blue; padding: 10px; background-color: #f9f9f9; border-radius: 5px; font-size: 20px;\">\n",
    "    <h1><strong>TITLE</strong></h1>\n",
    "    <h1><strong>FURTHER TITLE</strong></h1>\n",
    "    <h2>by</h1>\n",
    "    <h2><strong>Ömer Özak</strong></h2>\n",
    "</div>\n",
    "</center>"
   ]
  },
  {
   "cell_type": "markdown",
   "id": "9d6ae7bd-7ed8-4c18-8fb7-a9bbf66d91f0",
   "metadata": {},
   "source": [
    "<div style=\"border-left: 5px solid blue; padding: 10px; background-color: #f9f9f9; border-radius: 5px; font-size: 30px;\">\n",
    "    <h1>Instructions for replication</h1>\n",
    "</div>"
   ]
  },
  {
   "cell_type": "markdown",
   "id": "f0448fa2-5240-44a8-beba-0eaa4a1b44de",
   "metadata": {},
   "source": [
    "### Create dircetory structure (helps people who do not have access to full dataset)"
   ]
  },
  {
   "cell_type": "markdown",
   "id": "38eef2b0",
   "metadata": {},
   "source": [
    "## Uncomment the defintion in the next cell in order to get the full directory structure\n",
    "## Then replace it in the following cell"
   ]
  },
  {
   "cell_type": "code",
   "execution_count": null,
   "id": "90bc0d30-c944-4373-a21f-bcf044aaf302",
   "metadata": {},
   "outputs": [],
   "source": [
    "import os\n",
    "'''\n",
    "def get_directory_structure(source_dir):\n",
    "    directory_structure = []\n",
    "    \n",
    "    for root, dirs, _ in os.walk(source_dir):\n",
    "        for dir_name in dirs:\n",
    "            relative_path = os.path.relpath(os.path.join(root, dir_name), source_dir)\n",
    "            directory_structure.append(relative_path)\n",
    "    \n",
    "    return directory_structure\n",
    "    \n",
    "source_directory = './'\n",
    "# Step 1: Read the directory structure from source\n",
    "directory_structure = get_directory_structure(source_directory)\n",
    "directory_structure \n",
    "'''\n"
   ]
  },
  {
   "cell_type": "code",
   "execution_count": null,
   "id": "0fdd2bf0",
   "metadata": {},
   "outputs": [],
   "source": [
    "def create_directory_structure(target_dir, directory_structure):\n",
    "    for dir_path in directory_structure:\n",
    "        new_dir_path = os.path.join(target_dir, dir_path)\n",
    "        os.makedirs(new_dir_path, exist_ok=True)\n",
    "\n",
    "    print(f\"Directory structure created in {target_dir}\")\n",
    "\n",
    "directory_structure = ['PASTE HERE THE DIRECTORY STRUCTURE RETURNED ABOVE']\n",
    "\n",
    "# Step 2: Create the directory structure at the target location\n",
    "target_directory = './'\n",
    "create_directory_structure(target_directory, directory_structure)"
   ]
  },
  {
   "cell_type": "markdown",
   "id": "71f6596b-a40b-47a1-88be-7c269a6f433a",
   "metadata": {},
   "source": [
    "<div style=\"border-left: 5px solid blue; padding: 10px; background-color: #f9f9f9; border-radius: 5px; font-size: 30px;\">\n",
    "    <h1>Part I. Creating basic data</h1>\n",
    "</div>"
   ]
  },
  {
   "cell_type": "markdown",
   "id": "74500b7f-5c9c-4849-92b1-8bb76e0d5149",
   "metadata": {},
   "source": [
    "<div style=\"border-left: 5px solid blue; padding: 10px; background-color: #f9f9f9; border-radius: 5px; font-size: 30px;\">\n",
    "    <h3>Based on data from ./raw_data it produces data for analyses, which are located in ./data</h3>\n",
    "</div>"
   ]
  },
  {
   "cell_type": "markdown",
   "id": "9fa20fda-d076-413d-a654-ab876056f44f",
   "metadata": {},
   "source": [
    "<div style=\"border-left: 5px solid blue; padding: 10px; background-color: #f9f9f9; border-radius: 5px; font-size: 20px;\">\n",
    "    <h1>Step 1: Generating XXX data</h1>\n",
    "</div>\n",
    "\n",
    "Describe the data created and scripts\n",
    "\n",
    "To generate\n",
    "```bash\n",
    "./data/XXX/XXX1.dta\n",
    "./data/XXX/XXX2.dta\n",
    "```\n",
    "run jupyter notebook [`\"./progs/Python/XXX.ipynb\"`](./progs/Python/XXX.ipynb)"
   ]
  },
  {
   "cell_type": "code",
   "execution_count": 1,
   "id": "5980cee2-9162-432d-94be-7d69593ccc16",
   "metadata": {},
   "outputs": [],
   "source": [
    "# Import display options for showing websites\n",
    "from IPython.display import IFrame\n",
    "import pandas as pd"
   ]
  },
  {
   "cell_type": "markdown",
   "id": "02571c2c",
   "metadata": {},
   "source": [
    "## The following cells excecutes the notebook and creates an html version which is then displayed here"
   ]
  },
  {
   "cell_type": "markdown",
   "id": "8a62a464",
   "metadata": {},
   "source": [
    "## Using Python"
   ]
  },
  {
   "cell_type": "code",
   "execution_count": null,
   "id": "58f90ed6-f066-4616-9fe8-0e7a2a293ea2",
   "metadata": {
    "editable": true,
    "slideshow": {
     "slide_type": ""
    },
    "tags": []
   },
   "outputs": [],
   "source": [
    "%%time\n",
    "notebook_name = 'Python-XXX'\n",
    "!cd ./progs/Python/ && jupyter nbconvert \"{notebook_name}.ipynb\" --to notebook --ExecutePreprocessor.kernel_name=python3 --execute --output \"{notebook_name}.ipynb\" && jupyter nbconvert \"{notebook_name}.ipynb\" --to html --output \"../../html/{notebook_name}.html\" \n",
    "url = f\"./html/{notebook_name}.html\"\n",
    "IFrame(url, width=800, height=400)"
   ]
  },
  {
   "cell_type": "markdown",
   "id": "764403ab",
   "metadata": {},
   "source": [
    "## Using Stata"
   ]
  },
  {
   "cell_type": "code",
   "execution_count": null,
   "id": "00166bd6",
   "metadata": {},
   "outputs": [],
   "source": [
    "%%time\n",
    "notebook_name = 'Stata-XXX'\n",
    "!cd ./progs/Stata/ && jupyter nbconvert \"{notebook_name}.ipynb\" --to notebook --execute --ExecutePreprocessor.kernel_name=stata --output \"{notebook_name}.ipynb\" && jupyter nbconvert \"{notebook_name}.ipynb\" --to html --output \"../../html/{notebook_name}.html\" \n",
    "url = f\"./html/{notebook_name}.html\"\n",
    "IFrame(url, width=800, height=400)"
   ]
  },
  {
   "cell_type": "markdown",
   "id": "39516419",
   "metadata": {},
   "source": [
    "## Cells for executing scripts"
   ]
  },
  {
   "cell_type": "markdown",
   "id": "99369fbc",
   "metadata": {},
   "source": [
    "## Execute shell scripts"
   ]
  },
  {
   "cell_type": "code",
   "execution_count": null,
   "id": "f968e38e-abb7-444b-81a0-c20e4faf7e0a",
   "metadata": {},
   "outputs": [],
   "source": [
    "%%time\n",
    "should_I_run = False\n",
    "if should_I_run==True:\n",
    "    !cd ./progs/Python/ && shell_script1.sh\n",
    "    !cd ./progs/Python/ && shells_cript2.sh\n"
   ]
  },
  {
   "cell_type": "markdown",
   "id": "1402657b",
   "metadata": {},
   "source": [
    "## Execute Python scripts that accept inputs"
   ]
  },
  {
   "cell_type": "code",
   "execution_count": null,
   "id": "16ac2088-649b-4c7f-a126-9d8bbf439e05",
   "metadata": {},
   "outputs": [],
   "source": [
    "%%time\n",
    "should_I_run = False\n",
    "if should_I_run==True:\n",
    "    for i in range(1,10):\n",
    "        !python ./progs/Python/python_script1.py {i}\n",
    "        !python ./progs/Python/python_script2.py {i}"
   ]
  },
  {
   "cell_type": "markdown",
   "id": "22cb9b8b",
   "metadata": {},
   "source": [
    "## Execute Stata scripts and show log file"
   ]
  },
  {
   "cell_type": "code",
   "execution_count": null,
   "id": "95606040-7f02-4134-adc0-579c5c72402f",
   "metadata": {},
   "outputs": [],
   "source": [
    "%%time\n",
    "# Define the file name once\n",
    "file_name = 'stata_script'\n",
    "\n",
    "# Run Stata using the file name variable\n",
    "!stata-mp -b do ./progs/Stata/{file_name}.do\n",
    "\n",
    "# Display the output after the command runs\n",
    "with open(f'{file_name}.log', 'r') as file:\n",
    "    output = file.read()\n",
    "    print(output)\n",
    "\n",
    "# Remove the log file\n",
    "!rm {file_name}.log"
   ]
  },
  {
   "cell_type": "markdown",
   "id": "1203de7c",
   "metadata": {},
   "source": [
    "# Cells with colors to help identify steps, difficulties, notes, etc"
   ]
  },
  {
   "cell_type": "markdown",
   "id": "6effe47f-7282-4b12-afd5-aa3c2a61b4d5",
   "metadata": {},
   "source": [
    "<div style=\"border-left: 5px solid blue; padding: 10px; background-color: #f9f9f9; border-radius: 5px; font-size: 30px;\">\n",
    "    <h1>Part I. MAJOR PART IN ANALYSIS</h1>\n",
    "</div>"
   ]
  },
  {
   "cell_type": "markdown",
   "id": "0a6e4a53-acf3-43c5-8eaf-b64b17512a57",
   "metadata": {},
   "source": [
    "<div style=\"border-left: 5px solid blue; padding: 10px; background-color: #f9f9f9; border-radius: 5px; font-size: 20px;\">\n",
    "    <h1>Step X: SOME STEP</h1>\n",
    "</div>\n",
    "\n",
    "# Blue bordered cell"
   ]
  },
  {
   "cell_type": "markdown",
   "id": "23dc28b0-61ba-430b-a175-479974f977fe",
   "metadata": {},
   "source": [
    "<div style=\"border-left: 5px solid blue; padding: 10px; background-color: #f9f9f9; border-radius: 5px; font-size: 20px;\">\n",
    "    <h3>Step X.Y: SUB-STEP</h3>\n",
    "</div>\n",
    "\n",
    "### run notebook [`./progs/Python/Sub-Step-Y.ipynb`](./progs/Python/Sub-Step-Y.ipynb)"
   ]
  },
  {
   "cell_type": "markdown",
   "id": "88a8d2b4-c279-4ef9-be02-7e4486116d61",
   "metadata": {},
   "source": [
    "<div style=\"border-left: 5px solid red; padding: 10px; background-color: #f9f9f9; border-radius: 5px; font-size: 20px;\">\n",
    "    <h2>Step XY: Problem/Difficult Step</h2>\n",
    "</div>\n",
    "\n",
    "## Some alerts or diifficult step\n",
    "\n",
    "<div style=\"color: red; font-size: 40px; font-weight: bold;\">\n",
    "    THIS IS A PROBLEMATIC STEP!\n",
    "</div>"
   ]
  },
  {
   "cell_type": "markdown",
   "id": "75e63cc6",
   "metadata": {},
   "source": [
    "<div style=\"border-left: 5px solid green; padding: 10px; background-color: #f9f9f9; border-radius: 5px;\">\n",
    "<h1>Test: </h1>\n",
    "</div>\n",
    "\n",
    "## Green bordered cell for tests, robustness, or such."
   ]
  },
  {
   "cell_type": "markdown",
   "id": "00daf221-bdf5-4272-8018-700706209c96",
   "metadata": {},
   "source": [
    "<div style=\"border-left: 5px solid blue; padding: 10px; background-color: #f9f9f9; border-radius: 5px; font-size: 20px;\">\n",
    "    <h3>Step X.Y: Sub-Step</h3>\n",
    "</div>\n",
    "\n",
    "<div style=\"border-left: 5px solid red; padding: 10px; background-color: #f9f9f9; border-radius: 5px;\">\n",
    "    <h3>Alert!</h3>\n",
    "</div>\n",
    "\n",
    "### run notebook [`./progs/Python/Sub-Step-Y.ipynb`](./progs/Python/Sub-Step-Y.ipynb)"
   ]
  },
  {
   "cell_type": "markdown",
   "id": "ccdd4a32-5374-4f52-a8d8-65369bd99029",
   "metadata": {},
   "source": [
    "<div style=\"border-left: 5px solid blue; padding: 10px; background-color: #f9f9f9; border-radius: 5px; font-size: 30px;\">\n",
    "    <h1>Part LAST. Rename, Clean, and Copy Tables and Figures</h1>\n",
    "</div>\n",
    "\n",
    "<div style=\"border-left: 5px solid blue; padding: 10px; background-color: #f9f9f9; border-radius: 5px; font-size: 20px;\">\n",
    "    <h2>Step 1: Rename and Clean Tables and Figures</h2>\n",
    "</div>\n",
    "\n",
    "### run notebook [`./progs/Python/Renaming.ipynb`](./progs/Python/Renaming.ipynb)"
   ]
  },
  {
   "cell_type": "code",
   "execution_count": null,
   "id": "10e33696-1dae-493f-a656-203a7cb79946",
   "metadata": {},
   "outputs": [],
   "source": [
    "%%time\n",
    "notebook_name = 'Renaming'\n",
    "!cd ./progs/Python/ && jupyter nbconvert \"{notebook_name}.ipynb\" --to notebook --ExecutePreprocessor.kernel_name=python3 --execute --output \"{notebook_name}.ipynb\" && jupyter nbconvert \"{notebook_name}.ipynb\" --to html --output \"../../html/{notebook_name}.html\" \n",
    "url = f\"./html/{notebook_name}.html\"\n",
    "IFrame(url, width=800, height=400)"
   ]
  },
  {
   "cell_type": "markdown",
   "id": "f4e515e0-8fa9-4fff-9f19-19b32302d7ee",
   "metadata": {},
   "source": [
    "<div style=\"border-left: 5px solid blue; padding: 10px; background-color: #f9f9f9; border-radius: 5px; font-size: 20px;\">\n",
    "    <h2>Step 2: Copy Tables and Figures</h2>\n",
    "</div>\n",
    "\n",
    "### run notebook [`./progs/Python/Copy-Final.ipynb`](./progs/Python/Copy-Final.ipynb)"
   ]
  },
  {
   "cell_type": "code",
   "execution_count": null,
   "id": "072246ed-f742-4269-84fc-5e02853dbcc2",
   "metadata": {},
   "outputs": [],
   "source": [
    "%%time\n",
    "notebook_name = 'Copy-Final'\n",
    "!cd ./progs/Python/ && jupyter nbconvert \"{notebook_name}.ipynb\" --to notebook --ExecutePreprocessor.kernel_name=python3 --execute --output \"{notebook_name}.ipynb\" && jupyter nbconvert \"{notebook_name}.ipynb\" --to html --output \"../../html/{notebook_name}.html\" \n",
    "url = f\"./html/{notebook_name}.html\"\n",
    "IFrame(url, width=800, height=400)"
   ]
  }
 ],
 "metadata": {
  "kernelspec": {
   "display_name": "Python 3 (ipykernel)",
   "language": "python",
   "name": "python3"
  },
  "language_info": {
   "codemirror_mode": {
    "name": "ipython",
    "version": 3
   },
   "file_extension": ".py",
   "mimetype": "text/x-python",
   "name": "python",
   "nbconvert_exporter": "python",
   "pygments_lexer": "ipython3",
   "version": "3.11.6"
  },
  "widgets": {
   "application/vnd.jupyter.widget-state+json": {
    "state": {},
    "version_major": 2,
    "version_minor": 0
   }
  }
 },
 "nbformat": 4,
 "nbformat_minor": 5
}
