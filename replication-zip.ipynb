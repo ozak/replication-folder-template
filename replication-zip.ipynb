{
 "cells": [
  {
   "cell_type": "markdown",
   "id": "d0029bee-17a7-4037-a2a3-b18f77137d4c",
   "metadata": {},
   "source": [
    "# Create directory tree and determine shareable and non-shareable files"
   ]
  },
  {
   "cell_type": "markdown",
   "id": "f86b005e-869c-4e8c-8687-fabd1bdb2626",
   "metadata": {},
   "source": [
    "# Import packages"
   ]
  },
  {
   "cell_type": "code",
   "execution_count": 1,
   "id": "0ee1d4f5-854d-4de6-9444-e4189e9f978b",
   "metadata": {},
   "outputs": [],
   "source": [
    "import os\n",
    "import pandas as pd\n",
    "import zipfile"
   ]
  },
  {
   "cell_type": "markdown",
   "id": "f1755c54-2fa8-4656-a674-702f3e98ecd7",
   "metadata": {},
   "source": [
    "# Functions"
   ]
  },
  {
   "cell_type": "code",
   "execution_count": 2,
   "id": "e8c934fc-82d0-4fe2-8e50-163b4a53d89d",
   "metadata": {},
   "outputs": [],
   "source": [
    "def list_files_in_directory(root_dir):\n",
    "    file_paths = []\n",
    "    \n",
    "    # Traverse the directory tree\n",
    "    for foldername, subfolders, filenames in os.walk(root_dir):\n",
    "        for filename in filenames:\n",
    "            # Get the full file path\n",
    "            file_path = os.path.join(foldername, filename)\n",
    "            file_paths.append(file_path)\n",
    "    \n",
    "    # Create a DataFrame with file paths\n",
    "    df = pd.DataFrame(file_paths, columns=['file_path'])\n",
    "    # Add an \"include\" column, default to False (exclude)\n",
    "    df['include'] = True\n",
    "    \n",
    "    return df\n",
    "\n",
    "def zip_selected_files(df, root_dir, zip_filename):\n",
    "    # Create a zipfile object\n",
    "    with zipfile.ZipFile(zip_filename, 'w', zipfile.ZIP_DEFLATED) as zipf:\n",
    "        for _, row in df[df['include']].iterrows():\n",
    "            file_path = row['file_path']\n",
    "            # Add only files marked for inclusion\n",
    "            zipf.write(file_path, os.path.relpath(file_path, root_dir))\n",
    "            \n",
    "def list_zip_contents(zip_filename):\n",
    "    with zipfile.ZipFile(zip_filename, 'r') as zipf:\n",
    "        # Get the list of all file names in the zip file\n",
    "        zip_contents = zipf.namelist()\n",
    "        # Print the contents\n",
    "        for file in zip_contents:\n",
    "            print(file)"
   ]
  },
  {
   "cell_type": "markdown",
   "id": "3e04dcf7-65c2-45de-bd4f-5aebd60953e0",
   "metadata": {},
   "source": [
    "# Step 1: List all files and create DataFrame"
   ]
  },
  {
   "cell_type": "code",
   "execution_count": 3,
   "id": "6db7d5c3-a09f-4fc7-a757-3310cf74d32b",
   "metadata": {},
   "outputs": [],
   "source": [
    "root_directory = './replication-package/'\n",
    "df_files = list_files_in_directory(root_directory)"
   ]
  },
  {
   "cell_type": "code",
   "execution_count": null,
   "id": "c546a892-32cc-4b0b-85f6-b6b72b3c7971",
   "metadata": {},
   "outputs": [],
   "source": [
    "df_files"
   ]
  },
  {
   "cell_type": "code",
   "execution_count": 5,
   "id": "e12d0613-b679-4378-a627-eeec39b0a43f",
   "metadata": {},
   "outputs": [],
   "source": [
    "df_files = df_files.loc[df_files['file_path'].str.find('.DS')==-1].reset_index(drop=True)\n",
    "df_files = df_files.loc[df_files['file_path'].str.find('.ipynb_checkpoints')==-1].reset_index(drop=True)"
   ]
  },
  {
   "cell_type": "code",
   "execution_count": null,
   "id": "07090e43-0c43-49a3-a655-8562062ed655",
   "metadata": {},
   "outputs": [],
   "source": [
    "df_files.loc[df_files['file_path'].str.find('/.')!=-1]"
   ]
  },
  {
   "cell_type": "markdown",
   "id": "5af7b9f6-0b55-49b9-8ceb-b2f81b918006",
   "metadata": {},
   "source": [
    "# Step 2: Directories and files not to be included"
   ]
  },
  {
   "cell_type": "markdown",
   "id": "07b5c9c4-25ef-45f3-aeee-62e053690e6a",
   "metadata": {},
   "source": [
    "## DATASET 1 not to be included (Do as many as needed)"
   ]
  },
  {
   "cell_type": "code",
   "execution_count": null,
   "id": "2f0ac21d-c6dc-4737-bbc2-599070f99623",
   "metadata": {},
   "outputs": [],
   "source": [
    "df_files.loc[df_files['file_path'].str.find('raw-data/DATASET1')!=-1, 'include'] = False"
   ]
  },
  {
   "cell_type": "markdown",
   "id": "93cc458e-280c-4bc4-a28c-d29f3d91c551",
   "metadata": {},
   "source": [
    "# Step 5: Create folder and file tree"
   ]
  },
  {
   "cell_type": "code",
   "execution_count": 20,
   "id": "86aef892-09ba-49fe-8196-99d4241bfc76",
   "metadata": {},
   "outputs": [],
   "source": [
    "# Function to generate a nested dictionary structure from the DataFrame\n",
    "def build_tree_from_df(df):\n",
    "    tree = {}\n",
    "    \n",
    "    for _, row in df.iterrows():\n",
    "        parts = row['file_path'].split(os.sep)  # Split the file path into parts\n",
    "        current_level = tree\n",
    "        \n",
    "        for part in parts[:-1]:  # Traverse directory structure\n",
    "            if part not in current_level:\n",
    "                current_level[part] = {}\n",
    "            current_level = current_level[part]\n",
    "        \n",
    "        # Add the file with its include status\n",
    "        current_level[parts[-1]] = {\n",
    "            'include': row['include'],\n",
    "            'path': row['file_path']\n",
    "        }\n",
    "    \n",
    "    return tree\n",
    "\n",
    "\n",
    "# Function to generate collapsible HTML tree from the dictionary\n",
    "def generate_html_tree(structure):\n",
    "    def traverse(directory):\n",
    "        html = \"\"\n",
    "        for name, value in directory.items():\n",
    "            if isinstance(value, dict) and 'include' not in value:\n",
    "                # Directory\n",
    "                html += f\"\"\"\n",
    "                <li>\n",
    "                    <span style=\"color: black; cursor: pointer;\" onclick=\"this.parentElement.querySelector('ul').classList.toggle('active')\">\n",
    "                        [+] {name}\n",
    "                    </span>\n",
    "                    <ul class=\"nested\">\n",
    "                    {traverse(value)}\n",
    "                    </ul>\n",
    "                </li>\n",
    "                \"\"\"\n",
    "            else:\n",
    "                # File with clickable link and color coding\n",
    "                color = \"blue\" if value['include'] else \"red\"\n",
    "                html += f\"<li><a href='{value['path']}' style='color:{color};'>{name}</a></li>\"\n",
    "        return html\n",
    "\n",
    "    return f\"\"\"\n",
    "    <html>\n",
    "    <head>\n",
    "        <style>\n",
    "            ul, #myUL {{\n",
    "              list-style-type: none;\n",
    "            }}\n",
    "            .nested {{\n",
    "              display: none;\n",
    "            }}\n",
    "            .active {{\n",
    "              display: block;\n",
    "            }}\n",
    "        </style>\n",
    "    </head>\n",
    "    <body>\n",
    "\n",
    "    <ul id=\"myUL\">\n",
    "    {traverse(structure)}\n",
    "    </ul>\n",
    "\n",
    "    </body>\n",
    "    </html>\n",
    "    \"\"\"\n",
    "\n",
    "# Function to generate a sorted collapsible HTML tree from the dictionary with root directory\n",
    "def generate_html_tree_with_root(structure, root_dir_name):\n",
    "    def traverse(directory):\n",
    "        html = \"\"\n",
    "        # Sort the directory keys (directories and files together)\n",
    "        for name, value in sorted(directory.items()):\n",
    "            if isinstance(value, dict) and 'include' not in value:\n",
    "                # Directory\n",
    "                html += f\"\"\"\n",
    "                <li>\n",
    "                    <span style=\"color: black; cursor: pointer;\" onclick=\"this.parentElement.querySelector('ul').classList.toggle('active')\">\n",
    "                        [+] {name}\n",
    "                    </span>\n",
    "                    <ul class=\"nested\">\n",
    "                    {traverse(value)}\n",
    "                    </ul>\n",
    "                </li>\n",
    "                \"\"\"\n",
    "            else:\n",
    "                # File with clickable link and color coding\n",
    "                color = \"blue\" if value['include'] else \"red\"\n",
    "                html += f\"<li><a href='{value['path']}' style='color:{color};'>{name}</a></li>\"\n",
    "        return html\n",
    "\n",
    "    return f\"\"\"\n",
    "    <html>\n",
    "    <head>\n",
    "        <style>\n",
    "            ul, #myUL {{\n",
    "              list-style-type: none;\n",
    "            }}\n",
    "            .nested {{\n",
    "              display: none;\n",
    "            }}\n",
    "            .active {{\n",
    "              display: block;\n",
    "            }}\n",
    "        </style>\n",
    "    </head>\n",
    "    <body>\n",
    "    <ul id=\"myUL\">\n",
    "        <li>\n",
    "            <span style=\"color: black; cursor: pointer;\" onclick=\"this.parentElement.querySelector('ul').classList.toggle('active')\">\n",
    "                [+] {root_dir_name}\n",
    "            </span>\n",
    "            <ul class=\"nested\">\n",
    "                {traverse(structure)}\n",
    "            </ul>\n",
    "        </li>\n",
    "    </ul>\n",
    "    </body>\n",
    "    </html>\n",
    "    \"\"\"\n",
    "\n",
    "# Function to generate a color-coded collapsible HTML tree from the dictionary with root directory\n",
    "def generate_color_coded_html_tree_with_root(structure, root_dir_name):\n",
    "    def traverse(directory):\n",
    "        html = \"\"\n",
    "        # Sort the directory keys (directories and files together)\n",
    "        for name, value in sorted(directory.items()):\n",
    "            if isinstance(value, dict) and 'include' not in value:\n",
    "                # Directory: Color based on shared files inside (at least one shared = blue, all not shared = red)\n",
    "                is_shared = any(isinstance(v, dict) and 'include' in v and v['include'] for v in value.values()) or \\\n",
    "                            any(isinstance(v, dict) and traverse_is_shared(v) for v in value.values())\n",
    "                color = \"blue\" if is_shared else \"red\"\n",
    "                status = \"shared\" if is_shared else \"not shared\"\n",
    "                html += f\"\"\"\n",
    "                <li>\n",
    "                    <span style=\"color:{color}; cursor: pointer;\" onclick=\"toggleVisibility(this)\">\n",
    "                        [+] {name}\n",
    "                    </span> [{status}]\n",
    "                    <ul class=\"nested\">\n",
    "                    {traverse(value)}\n",
    "                    </ul>\n",
    "                </li>\n",
    "                \"\"\"\n",
    "            else:\n",
    "                # File with clickable link and color coding\n",
    "                color = \"blue\" if value['include'] else \"red\"\n",
    "                status = \"shared\" if value['include'] else \"not shared\"\n",
    "                html += f\"<li><a href='{value['path']}' style='color:{color};'>{name}</a> [{status}]</li>\"\n",
    "        return html\n",
    "\n",
    "    def traverse_is_shared(directory):\n",
    "        # Recursive function to check if any file in the directory or its subdirectories is shared\n",
    "        return any(isinstance(v, dict) and 'include' in v and v['include'] for v in directory.values()) or \\\n",
    "               any(isinstance(v, dict) and traverse_is_shared(v) for v in directory.values())\n",
    "\n",
    "    return f\"\"\"\n",
    "    <html>\n",
    "    <head>\n",
    "        <style>\n",
    "            ul, #myUL {{\n",
    "              list-style-type: none;\n",
    "            }}\n",
    "            .nested {{\n",
    "              display: none;\n",
    "            }}\n",
    "            .active {{\n",
    "              display: block;\n",
    "            }}\n",
    "        </style>\n",
    "        <script>\n",
    "            function toggleVisibility(element) {{\n",
    "                var nestedList = element.parentElement.querySelector('ul');\n",
    "                nestedList.classList.toggle('active');\n",
    "                // Toggle between [+] and [-]\n",
    "                if (element.innerHTML.includes('[+]')) {{\n",
    "                    element.innerHTML = element.innerHTML.replace('[+]', '[-]');\n",
    "                }} else {{\n",
    "                    element.innerHTML = element.innerHTML.replace('[-]', '[+]');\n",
    "                }}\n",
    "            }}\n",
    "        </script>\n",
    "    </head>\n",
    "    <body>\n",
    "    <ul id=\"myUL\">\n",
    "        <li>\n",
    "            <span style=\"color:blue; cursor: pointer;\" onclick=\"toggleVisibility(this)\">\n",
    "                [+] {root_dir_name}\n",
    "            </span> [shared]\n",
    "            <ul class=\"nested\">\n",
    "                {traverse(structure)}\n",
    "            </ul>\n",
    "        </li>\n",
    "    </ul>\n",
    "    </body>\n",
    "    </html>\n",
    "    \"\"\"\n",
    "\n",
    "# Function to generate a color-coded collapsible HTML tree with the first node expanded by default\n",
    "def generate_color_coded_html_tree_with_root(structure, root_dir_name):\n",
    "    def traverse(directory, is_first_node=False):\n",
    "        html = \"\"\n",
    "        # Sort the directory keys (directories and files together)\n",
    "        for idx, (name, value) in enumerate(sorted(directory.items())):\n",
    "            if isinstance(value, dict) and 'include' not in value:\n",
    "                # Directory: Color based on shared files inside (at least one shared = blue, all not shared = red)\n",
    "                is_shared = any(isinstance(v, dict) and 'include' in v and v['include'] for v in value.values()) or \\\n",
    "                            any(isinstance(v, dict) and traverse_is_shared(v) for v in value.values())\n",
    "                color = \"blue\" if is_shared else \"red\"\n",
    "                status = \"shared\" if is_shared else \"not shared\"\n",
    "\n",
    "                # If it's the first directory, make it open by default (set class=\"active\")\n",
    "                active_class = \"active\" if is_first_node and idx == 0 else \"\"\n",
    "                symbol = \"[-]\" if active_class else \"[+]\"\n",
    "\n",
    "                html += f\"\"\"\n",
    "                <li>\n",
    "                    <span style=\"color:{color}; cursor: pointer;\" onclick=\"toggleVisibility(this)\">\n",
    "                        {symbol} {name}\n",
    "                    </span> [{status}]\n",
    "                    <ul class=\"nested {active_class}\">\n",
    "                    {traverse(value)}\n",
    "                    </ul>\n",
    "                </li>\n",
    "                \"\"\"\n",
    "            else:\n",
    "                # File with clickable link and color coding\n",
    "                color = \"blue\" if value['include'] else \"red\"\n",
    "                status = \"shared\" if value['include'] else \"not shared\"\n",
    "                html += f\"<li><a href='{value['path']}' style='color:{color};'>{name}</a> [{status}]</li>\"\n",
    "        return html\n",
    "\n",
    "    def traverse_is_shared(directory):\n",
    "        # Recursive function to check if any file in the directory or its subdirectories is shared\n",
    "        return any(isinstance(v, dict) and 'include' in v and v['include'] for v in directory.values()) or \\\n",
    "               any(isinstance(v, dict) and traverse_is_shared(v) for v in directory.values())\n",
    "\n",
    "    return f\"\"\"\n",
    "    <html>\n",
    "    <head>\n",
    "        <style>\n",
    "            ul, #myUL {{\n",
    "              list-style-type: none;\n",
    "            }}\n",
    "            .nested {{\n",
    "              display: none;\n",
    "            }}\n",
    "            .active {{\n",
    "              display: block;\n",
    "            }}\n",
    "        </style>\n",
    "        <script>\n",
    "            function toggleVisibility(element) {{\n",
    "                var nestedList = element.parentElement.querySelector('ul');\n",
    "                nestedList.classList.toggle('active');\n",
    "                // Toggle between [+] and [-]\n",
    "                if (element.innerHTML.includes('[+]')) {{\n",
    "                    element.innerHTML = element.innerHTML.replace('[+]', '[-]');\n",
    "                }} else {{\n",
    "                    element.innerHTML = element.innerHTML.replace('[-]', '[+]');\n",
    "                }}\n",
    "            }}\n",
    "        </script>\n",
    "    </head>\n",
    "    <body>\n",
    "    <ul id=\"myUL\">\n",
    "        <li>\n",
    "            <span style=\"color:blue; cursor: pointer;\" onclick=\"toggleVisibility(this)\">\n",
    "                [-] {root_dir_name}\n",
    "            </span> [shared]\n",
    "            <ul class=\"nested active\">\n",
    "                {traverse(structure, is_first_node=True)}\n",
    "            </ul>\n",
    "        </li>\n",
    "    </ul>\n",
    "    </body>\n",
    "    </html>\n",
    "    \"\"\"\n",
    "\n",
    "# Function to generate an ASCII tree from the dictionary\n",
    "def generate_ascii_tree(structure, prefix=''):\n",
    "    lines = []\n",
    "    for idx, (name, value) in enumerate(structure.items()):\n",
    "        connector = \"└── \" if idx == len(structure) - 1 else \"├── \"\n",
    "        if isinstance(value, dict):\n",
    "            # Directory\n",
    "            lines.append(f\"{prefix}{connector}{name}/\")\n",
    "            # Recurse into the directory\n",
    "            lines.extend(generate_ascii_tree(value, prefix + (\"    \" if idx == len(structure) - 1 else \"│   \")))\n",
    "        else:\n",
    "            # File\n",
    "            status = \"[shared]\" if value == 'shared' else \"[not shared]\"\n",
    "            lines.append(f\"{prefix}{connector}{name} {status}\")\n",
    "    \n",
    "    return lines\n",
    "\n",
    "# Function to generate a sorted ASCII tree from the dictionary with root directory\n",
    "def generate_ascii_tree_with_root(structure, root_dir_name, prefix=''):\n",
    "    lines = []\n",
    "    lines.append(f\"{prefix}{root_dir_name}/\")\n",
    "    \n",
    "    def traverse(directory, indent='    '):\n",
    "        # Sort the directory keys (directories and files together)\n",
    "        for name, value in sorted(directory.items()):\n",
    "            connector = \"└── \" if name == sorted(directory.keys())[-1] else \"├── \"\n",
    "            if isinstance(value, dict) and 'include' not in value:\n",
    "                # Directory\n",
    "                lines.append(f\"{indent}{connector}{name}/\")\n",
    "                traverse(value, indent + (\"    \" if name == sorted(directory.keys())[-1] else \"│   \"))\n",
    "            elif isinstance(value, dict) and 'include' in value:\n",
    "                # File with include status\n",
    "                status = \"[shared]\" if value['include'] else \"[not shared]\"\n",
    "                lines.append(f\"{indent}{connector}{name} {status}\")\n",
    "    \n",
    "    traverse(structure)\n",
    "    return \"\\n\".join(lines)\n",
    "\n",
    "# Function to adjust file paths to start from 'replication'\n",
    "def adjust_file_paths(df, root_dir):\n",
    "    dfin = df.copy()\n",
    "    # Ensure all paths are relative to the root_dir (./replication)\n",
    "    dfin['file_path'] = dfin['file_path'].apply(lambda path: os.path.relpath(path, root_dir))\n",
    "    return dfin\n",
    "\n",
    "# Function to generate a color-coded Markdown tree (using HTML span for color)\n",
    "def generate_color_coded_markdown_tree_with_root(structure, root_dir_name, prefix=''):\n",
    "    lines = []\n",
    "    lines.append(f\"{prefix}- <span style='color:blue;'>`{root_dir_name}/`</span> [shared]\")  # Root directory is considered shared\n",
    "    \n",
    "    def traverse(directory, indent='    '):\n",
    "        # Sort the directory keys (directories and files together)\n",
    "        for name, value in sorted(directory.items()):\n",
    "            connector = \"- \"  # Bullet point for Markdown\n",
    "            if isinstance(value, dict) and 'include' not in value:\n",
    "                # Directory: Use red if no shared files, blue if shared\n",
    "                color = \"blue\" if all('include' in v and v['include'] for v in value.values()) else \"red\"\n",
    "                status = \"shared\" if color == \"blue\" else \"not shared\"\n",
    "                lines.append(f\"{indent}{connector}<span style='color:{color};'>`{name}/`</span> [{status}]\")\n",
    "                traverse(value, indent + \"    \")\n",
    "            elif isinstance(value, dict) and 'include' in value:\n",
    "                # File with color coding\n",
    "                color = \"blue\" if value['include'] else \"red\"\n",
    "                status = \"shared\" if value['include'] else \"not shared\"\n",
    "                lines.append(f\"{indent}{connector}<span style='color:{color};'>`{name}`</span> [{status}]\")\n",
    "    \n",
    "    traverse(structure)\n",
    "    return \"\\n\".join(lines)"
   ]
  },
  {
   "cell_type": "markdown",
   "id": "360e43b2-7bb1-4f77-adc0-cf38c44fbdb8",
   "metadata": {},
   "source": [
    "# Build the tree structure from the DataFrame"
   ]
  },
  {
   "cell_type": "code",
   "execution_count": null,
   "id": "f6f659fc-65c6-44c2-92b0-3e1a5cacac84",
   "metadata": {},
   "outputs": [],
   "source": [
    "# Define the root directory\n",
    "root_directory = './replication-package'\n",
    "root_dir_name = 'replication-package'  # Change the root directory name\n",
    "\n",
    "# Adjust the file paths to be relative to the replication directory\n",
    "df = adjust_file_paths(df_files, root_directory)\n",
    "df"
   ]
  },
  {
   "cell_type": "code",
   "execution_count": 22,
   "id": "af58b537-4a15-472d-93ec-3a24c308d542",
   "metadata": {},
   "outputs": [],
   "source": [
    "tree_structure = build_tree_from_df(df)"
   ]
  },
  {
   "cell_type": "code",
   "execution_count": null,
   "id": "6b204f55-8171-42d3-9fdf-ddeeda01c5ec",
   "metadata": {
    "tags": []
   },
   "outputs": [],
   "source": [
    "# Generate the ASCII tree from the DataFrame's directory structure\n",
    "ascii_tree = generate_ascii_tree_with_root(tree_structure, root_dir_name)\n",
    "\n",
    "# Output the ASCII tree to the console\n",
    "print(ascii_tree)\n",
    "\n",
    "# Save the ASCII tree to a text file\n",
    "with open(\"./replication-package/directory_structure.txt\", \"w\") as file:\n",
    "    file.write(ascii_tree)\n",
    "\n",
    "print(ascii_tree)"
   ]
  },
  {
   "cell_type": "markdown",
   "id": "699459da-86e3-404e-9513-6c416f2c46c8",
   "metadata": {},
   "source": [
    "# Generate the HTML content"
   ]
  },
  {
   "cell_type": "code",
   "execution_count": 24,
   "id": "747694fc-4fa5-4ef7-9807-d18e7ad9ccee",
   "metadata": {},
   "outputs": [],
   "source": [
    "html_content = generate_color_coded_html_tree_with_root(tree_structure, root_dir_name)"
   ]
  },
  {
   "cell_type": "code",
   "execution_count": 25,
   "id": "abcda101-ca9b-48c0-ad7d-14f2c09bff42",
   "metadata": {},
   "outputs": [],
   "source": [
    "# Save to a README.md file\n",
    "with open(\"./replication-package/directory_structure.html\", \"w\") as file:\n",
    "    file.write(html_content)"
   ]
  },
  {
   "cell_type": "markdown",
   "id": "0a65233d-a8fa-43da-b5c1-c9822894ef8f",
   "metadata": {},
   "source": [
    "# Create tree in markdown"
   ]
  },
  {
   "cell_type": "code",
   "execution_count": 26,
   "id": "eea59e9b-2260-4d26-9900-1465554d8282",
   "metadata": {},
   "outputs": [],
   "source": [
    "markdown_tree = generate_color_coded_markdown_tree_with_root(tree_structure, root_dir_name)\n",
    "\n",
    "# Save to a README.md file\n",
    "with open(\"./replication-package/directory_structure.md\", \"w\") as file:\n",
    "    file.write(markdown_tree)\n"
   ]
  },
  {
   "cell_type": "code",
   "execution_count": null,
   "id": "e21b6a18-2971-4093-a847-d8df78738c69",
   "metadata": {},
   "outputs": [],
   "source": [
    "df.loc[df['file_path'].str.startswith('data')]"
   ]
  },
  {
   "cell_type": "markdown",
   "id": "f229220c-a46d-4e86-83f7-8cf4dcf0fb6d",
   "metadata": {},
   "source": [
    "# Step 4: Zip only the selected files (those marked as True in the \"include\" column)"
   ]
  },
  {
   "cell_type": "code",
   "execution_count": 28,
   "id": "6eebc555-e472-4dcf-a11d-a1d83e6f23e6",
   "metadata": {},
   "outputs": [],
   "source": [
    "zip_output = '3-replication-package.zip'\n",
    "root_directory = './'\n",
    "zip_selected_files(df_files, root_directory, zip_output)"
   ]
  },
  {
   "cell_type": "code",
   "execution_count": null,
   "id": "140f6754-42f7-4644-a9ce-9d53b81d9002",
   "metadata": {
    "tags": []
   },
   "outputs": [],
   "source": [
    "zip_output = '3-replication-package.zip'\n",
    "list_zip_contents(zip_output)"
   ]
  },
  {
   "cell_type": "markdown",
   "id": "64e07e16-5d5a-4a0e-b804-232f241f767d",
   "metadata": {},
   "source": [
    "# Step 5: Zip only the selected files (those marked as False in the \"include\" column)"
   ]
  },
  {
   "cell_type": "code",
   "execution_count": null,
   "id": "2b44b536-9cc5-4181-9f37-629d77c83c82",
   "metadata": {},
   "outputs": [],
   "source": [
    "df_excluded = df_files.loc[df_files['include']==False].reset_index(drop=True)\n",
    "df_excluded['include'] = True\n",
    "df_excluded"
   ]
  },
  {
   "cell_type": "code",
   "execution_count": 31,
   "id": "affaf048-5e37-4a8e-9bcf-9928b3dad9ad",
   "metadata": {},
   "outputs": [],
   "source": [
    "zip_output = '4-confidential-data-not-for-publication.zip'\n",
    "root_directory = './'\n",
    "zip_selected_files(df_excluded, root_directory, zip_output)"
   ]
  },
  {
   "cell_type": "code",
   "execution_count": null,
   "id": "9a866185-1c54-43eb-a7f3-fd74c1f1f672",
   "metadata": {
    "tags": []
   },
   "outputs": [],
   "source": [
    "zip_output = '4-confidential-data-not-for-publication.zip'\n",
    "list_zip_contents(zip_output)"
   ]
  },
  {
   "cell_type": "markdown",
   "id": "7d7cacb1-410c-4c19-a5fd-b4aca3f14788",
   "metadata": {},
   "source": [
    "# Step 6: Final Zip"
   ]
  },
  {
   "cell_type": "code",
   "execution_count": 33,
   "id": "021cb2eb-7ded-464b-a08e-59c1f50946c4",
   "metadata": {},
   "outputs": [],
   "source": [
    "paper = list_files_in_directory('./1-paper')\n",
    "appendix = list_files_in_directory('./2-appendix/')"
   ]
  },
  {
   "cell_type": "code",
   "execution_count": null,
   "id": "9c46df92-f6c7-4d1b-b9c9-a51af1214298",
   "metadata": {},
   "outputs": [],
   "source": [
    "dfout = pd.concat([paper, appendix], ignore_index=True)\n",
    "dfout"
   ]
  },
  {
   "cell_type": "code",
   "execution_count": null,
   "id": "92f9097e-6c76-4c28-bfbe-acf99ceb6754",
   "metadata": {},
   "outputs": [],
   "source": [
    "dfout = dfout.loc[dfout['file_path'].str.find('/.')==-1].reset_index(drop=True)\n",
    "dfout"
   ]
  },
  {
   "cell_type": "code",
   "execution_count": null,
   "id": "dc67adc9-6531-4563-b57b-c6c70a863599",
   "metadata": {},
   "outputs": [],
   "source": [
    "dfout = pd.concat([dfout, pd.DataFrame({'file_path':['./3-replication-package.zip', \n",
    "                                                     './4-confidential-data-not-for-publication.zip',\n",
    "                                                     './checklist.pdf'],\n",
    "              'include':[True, True, True]})], ignore_index=True)\n",
    "dfout"
   ]
  },
  {
   "cell_type": "code",
   "execution_count": null,
   "id": "7a814120-ad2a-4c9f-8be0-d053af257d9f",
   "metadata": {},
   "outputs": [],
   "source": [
    "zip_output = 'full-replication.zip'\n",
    "root_directory = './'\n",
    "zip_selected_files(dfout, root_directory, zip_output)"
   ]
  },
  {
   "cell_type": "code",
   "execution_count": null,
   "id": "840b9e5c-c2f8-409c-9c23-bba6bca93dcf",
   "metadata": {},
   "outputs": [],
   "source": [
    "dfout.loc[dfout['file_path'].str.find('checklist')!=-1]"
   ]
  },
  {
   "cell_type": "code",
   "execution_count": null,
   "id": "b5650f95-80f8-40c5-aa88-82c1a407f6d4",
   "metadata": {},
   "outputs": [],
   "source": []
  }
 ],
 "metadata": {
  "kernelspec": {
   "display_name": "Python 3 (ipykernel)",
   "language": "python",
   "name": "python3"
  },
  "language_info": {
   "codemirror_mode": {
    "name": "ipython",
    "version": 3
   },
   "file_extension": ".py",
   "mimetype": "text/x-python",
   "name": "python",
   "nbconvert_exporter": "python",
   "pygments_lexer": "ipython3",
   "version": "3.11.6"
  },
  "widgets": {
   "application/vnd.jupyter.widget-state+json": {
    "state": {},
    "version_major": 2,
    "version_minor": 0
   }
  }
 },
 "nbformat": 4,
 "nbformat_minor": 5
}
